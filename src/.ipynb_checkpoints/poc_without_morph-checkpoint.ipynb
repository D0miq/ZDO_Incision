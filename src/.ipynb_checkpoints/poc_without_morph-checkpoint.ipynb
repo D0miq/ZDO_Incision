{
 "cells": [
  {
   "cell_type": "code",
   "execution_count": null,
   "metadata": {
    "colab": {
     "base_uri": "https://localhost:8080/",
     "height": 1000
    },
    "id": "3UNu-eOkGMyC",
    "outputId": "5bdf039d-f3f2-456c-aa55-a79ec5ad4a68"
   },
   "outputs": [],
   "source": [
    "%%python - \"output.json\" -v \"../data/anotated_images/images/default/SA_20230222-130058_incision_crop_0.jpg\"\n",
    "\n",
    "import sys\n",
    "import matplotlib.pyplot as plt\n",
    "\n",
    "from skan import draw\n",
    "from skimage.io import imread\n",
    "\n",
    "import annotations\n",
    "import classification\n",
    "import description\n",
    "import output\n",
    "import preprocessing\n",
    "import segmentation\n",
    "\n",
    "if not sys.argv[1].endswith(\".json\"):\n",
    "    print(\"Output json is not specified\")\n",
    "    sys.exit()\n",
    "\n",
    "outputFile = sys.argv[1]\n",
    "\n",
    "if sys.argv[2] == \"-v\":\n",
    "    visualisation = True\n",
    "    inputFiles = sys.argv[3:]\n",
    "else:\n",
    "    visualisation = False\n",
    "    inputFiles = sys.argv[2:]\n",
    "\n",
    "#abssvc = classification.create_svm()\n",
    "#[train_data, train_target] = annotations.read_annotations()\n",
    "#svc.fit(train_data, train_target)\n",
    "\n",
    "img = imread(inputFiles[0])\n",
    "plt.imshow(img, cmap='gray')\n",
    "plt.show()\n",
    "\n",
    "#for file in inputFiles:\n",
    "    #img = imread(file)\n",
    "\n",
    "    # if visualisation:\n",
    "\n",
    "    #plt.figure()\n",
    "    #plt.subplot(2, 1, 1)\n",
    "    #plt.imshow(img, cmap='gray')\n",
    "    #plt.show()\n",
    "    #img = preprocessing.convert_to_grayscale(img)\n",
    "    #img = segmentation.create_segmentation(img)\n",
    "    #segmentation.convert_to_binary(img)\n",
    "\n",
    "    #annotationsimg = segmentation.remove_separate_points(img)\n",
    "    #branch_data = description.create_branches(img)\n",
    "\n",
    "    # if visualisation:\n",
    "    #absplt.subplot(2, 1, 2)\n",
    "    #draw.overlay_euclidean_skeleton_2d(img, branch_data, skeleton_color_source='branch-type')\n",
    "    #plt.imshow(img, cmap='gray')\n",
    "\n",
    "    #features = description.get_feature_vector(branch_data)\n",
    "\n",
    "    # for val in features:\n",
    "    #    print(val)\n",
    "    #    plt.plot([val[1], val[2]], [val[3], val[4]])\n",
    "\n",
    "    #branch_types = classification.classify(svc, features)\n",
    "\n",
    "    #print(branch_types)\n",
    "\n",
    "    # Vytvoř seznam s body, které patří částem skeletu, které klasifikace ohodnotila -1\n",
    "    #incisions = list()\n",
    "\n",
    "    #plt.show()\n",
    "    \n",
    "    # print(incisions)\n",
    "\n",
    "    # output.write_to_output(outputFile, file, incisions, , )\n",
    "\n"
   ]
  }
 ],
 "metadata": {
  "colab": {
   "provenance": []
  },
  "kernelspec": {
   "display_name": "Python 3 (ipykernel)",
   "language": "python",
   "name": "python3"
  },
  "language_info": {
   "codemirror_mode": {
    "name": "ipython",
    "version": 3
   },
   "file_extension": ".py",
   "mimetype": "text/x-python",
   "name": "python",
   "nbconvert_exporter": "python",
   "pygments_lexer": "ipython3",
   "version": "3.8.10"
  }
 },
 "nbformat": 4,
 "nbformat_minor": 4
}
